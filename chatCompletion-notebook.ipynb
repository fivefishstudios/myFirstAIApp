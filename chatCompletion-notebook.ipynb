{
 "cells": [
  {
   "cell_type": "code",
   "execution_count": 25,
   "metadata": {},
   "outputs": [],
   "source": [
    "# Note: you need to be using OpenAI Python v0.27.0 for the code below to work\n",
    "import os\n",
    "import openai\n",
    "\n",
    "openai.api_key_path = \".api-key\""
   ]
  },
  {
   "cell_type": "code",
   "execution_count": 26,
   "metadata": {},
   "outputs": [],
   "source": [
    "system = \"\"\" \n",
    "You are an expert consultant that speaks English. \n",
    "\"\"\"\n",
    "# Answer briefly in first paragraph, \n",
    "# and explain like I'm five on second paragraph, \n"
   ]
  },
  {
   "cell_type": "code",
   "execution_count": 27,
   "metadata": {},
   "outputs": [],
   "source": [
    "prompt = \"\"\"\n",
    "Who  is Jesus Christ\n",
    "\"\"\""
   ]
  },
  {
   "cell_type": "code",
   "execution_count": 28,
   "metadata": {},
   "outputs": [],
   "source": [
    "response = openai.ChatCompletion.create(\n",
    "  model=\"gpt-3.5-turbo\",\n",
    "  messages=[\n",
    "        {\"role\": \"system\", \"content\": system},\n",
    "        {\"role\": \"user\", \"content\": prompt},\n",
    "        # {\"role\": \"assistant\", \"content\": \"The Los Angeles Dodgers won the World Series in 2020.\"},\n",
    "        # {\"role\": \"user\", \"content\": \"Where was it played?\"}\n",
    "    ],\n",
    "    max_tokens=1000,\n",
    ")"
   ]
  },
  {
   "cell_type": "code",
   "execution_count": 29,
   "metadata": {},
   "outputs": [],
   "source": [
    "# response"
   ]
  },
  {
   "cell_type": "code",
   "execution_count": 30,
   "metadata": {},
   "outputs": [
    {
     "name": "stdout",
     "output_type": "stream",
     "text": [
      "\n",
      "Who  is Jesus Christ\n",
      "\n",
      "----------------------\n",
      "Jesus Christ is a religious figure in Christianity. He is believed to be the son of God and the savior of humanity. According to the Bible, he was born in Bethlehem, Israel, around 2,000 years ago and was crucified on a cross in Jerusalem, where he died and rose again three days later. Christians believe that through his death and resurrection, he made the way for people to be reconciled to God and have eternal life. Jesus Christ is considered an important prophet and messenger of God in Islam, as well.\n"
     ]
    }
   ],
   "source": [
    "# print(response)\n",
    "print(prompt)\n",
    "print('----------------------')\n",
    "print(response.choices[0].message.content)"
   ]
  }
 ],
 "metadata": {
  "kernelspec": {
   "display_name": "openai",
   "language": "python",
   "name": "python3"
  },
  "language_info": {
   "codemirror_mode": {
    "name": "ipython",
    "version": 3
   },
   "file_extension": ".py",
   "mimetype": "text/x-python",
   "name": "python",
   "nbconvert_exporter": "python",
   "pygments_lexer": "ipython3",
   "version": "3.10.4"
  },
  "orig_nbformat": 4
 },
 "nbformat": 4,
 "nbformat_minor": 2
}
