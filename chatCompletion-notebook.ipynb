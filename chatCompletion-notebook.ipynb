{
 "cells": [
  {
   "cell_type": "code",
   "execution_count": 1,
   "metadata": {},
   "outputs": [],
   "source": [
    "# Note: you need to be using OpenAI Python v0.27.0 for the code below to work\n",
    "import os\n",
    "import openai\n",
    "\n",
    "openai.api_key_path = \".api-key\""
   ]
  },
  {
   "cell_type": "code",
   "execution_count": 2,
   "metadata": {},
   "outputs": [],
   "source": [
    "system = \"\"\" \n",
    "You are an expert consultant that speaks English. \n",
    "\"\"\"\n",
    "# Answer briefly in first paragraph, \n",
    "# and explain like I'm five on second paragraph, \n"
   ]
  },
  {
   "cell_type": "code",
   "execution_count": 3,
   "metadata": {},
   "outputs": [],
   "source": [
    "prompt = \"\"\"\n",
    "Paraphrase this:\n",
    "\"Gloria\" - The platinum-certified 1982 single \"Gloria\", by Laura Branigan stayed on the U.S. Billboard Hot 100 for 36 weeks.\n",
    "Laura didn't wrote \"Gloria\", but was a cover of a song written by Italian singer-songwriters Giancarlo Bigazzi and Umberto Tozzi.\n",
    "SPORTS TRIVIA: After 52 years, the St. Louis Blues won their first Stanley Cup in franchise history, and thousands of Blues fans all singing and dancing to their victory song \"Gloria.\" The story was several months ago, 5 players were inside a bar and somebody kept telling the DJ to \"play Gloria\", and everytime the DJ played it, the bar erupted.  The players see this happening and now wanted to play the song after a win. The following night, the team won and the team made Gloria their victory song. The team then started climbing up the ranks, attributing the luck to the time they first played \"Gloria.\" The song has been played over and over again after every win, and has become a St. Louis Blues fan favorite.\n",
    "\"\"\""
   ]
  },
  {
   "cell_type": "code",
   "execution_count": 4,
   "metadata": {},
   "outputs": [],
   "source": [
    "response = openai.ChatCompletion.create(\n",
    "  model=\"gpt-3.5-turbo\",\n",
    "  messages=[\n",
    "        {\"role\": \"system\", \"content\": system},\n",
    "        {\"role\": \"user\", \"content\": prompt},\n",
    "        # {\"role\": \"assistant\", \"content\": \"The Los Angeles Dodgers won the World Series in 2020.\"},\n",
    "        # {\"role\": \"user\", \"content\": \"Where was it played?\"}\n",
    "    ],\n",
    "    max_tokens=1000,\n",
    ")"
   ]
  },
  {
   "cell_type": "code",
   "execution_count": 5,
   "metadata": {},
   "outputs": [],
   "source": [
    "# response"
   ]
  },
  {
   "cell_type": "code",
   "execution_count": 6,
   "metadata": {},
   "outputs": [
    {
     "name": "stdout",
     "output_type": "stream",
     "text": [
      "\n",
      "Paraphrase this:\n",
      "\"Gloria\" - The platinum-certified 1982 single \"Gloria\", by Laura Branigan stayed on the U.S. Billboard Hot 100 for 36 weeks.\n",
      "Laura didn't wrote \"Gloria\", but was a cover of a song written by Italian singer-songwriters Giancarlo Bigazzi and Umberto Tozzi.\n",
      "SPORTS TRIVIA: After 52 years, the St. Louis Blues won their first Stanley Cup in franchise history, and thousands of Blues fans all singing and dancing to their victory song \"Gloria.\" The story was several months ago, 5 players were inside a bar and somebody kept telling the DJ to \"play Gloria\", and everytime the DJ played it, the bar erupted.  The players see this happening and now wanted to play the song after a win. The following night, the team won and the team made Gloria their victory song. The team then started climbing up the ranks, attributing the luck to the time they first played \"Gloria.\" The song has been played over and over again after every win, and has become a St. Louis Blues fan favorite.\n",
      "\n",
      "----------------------\n",
      "Laura Branigan's 1982 hit single \"Gloria\" achieved platinum status and spent a total of 36 weeks on the U.S. Billboard Hot 100 chart. However, the song was actually a cover version of an original written by Italian singer-songwriters Giancarlo Bigazzi and Umberto Tozzi. On the sports front, after 52 years of waiting, the St. Louis Blues finally clinched their inaugural Stanley Cup win, and their fans celebrated by singing and dancing along to \"Gloria.\" The story behind this is that five players were at a bar and repeatedly asked the DJ to play the song. The bar erupted each time it was played, and the players decided to make it their victory song after a win the following night. They attributed their success to the first time they played \"Gloria\" and continued to play it after every win, quickly making it a fan favorite in St. Louis.\n"
     ]
    }
   ],
   "source": [
    "# print(response)\n",
    "print(prompt)\n",
    "print('----------------------')\n",
    "print(response.choices[0].message.content)"
   ]
  }
 ],
 "metadata": {
  "kernelspec": {
   "display_name": "openai",
   "language": "python",
   "name": "python3"
  },
  "language_info": {
   "codemirror_mode": {
    "name": "ipython",
    "version": 3
   },
   "file_extension": ".py",
   "mimetype": "text/x-python",
   "name": "python",
   "nbconvert_exporter": "python",
   "pygments_lexer": "ipython3",
   "version": "3.10.4"
  },
  "orig_nbformat": 4
 },
 "nbformat": 4,
 "nbformat_minor": 2
}
