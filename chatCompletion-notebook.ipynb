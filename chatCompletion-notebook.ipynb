{
 "cells": [
  {
   "cell_type": "code",
   "execution_count": 7,
   "metadata": {},
   "outputs": [],
   "source": [
    "# Note: you need to be using OpenAI Python v0.27.0 for the code below to work\n",
    "import os\n",
    "import openai\n",
    "\n",
    "openai.api_key_path = \".api-key\""
   ]
  },
  {
   "cell_type": "code",
   "execution_count": 8,
   "metadata": {},
   "outputs": [],
   "source": [
    "system = \"\"\" \n",
    "You are an expert consultant that speaks English. \n",
    "\"\"\"\n",
    "# Answer briefly in first paragraph, \n",
    "# and explain like I'm five on second paragraph, \n"
   ]
  },
  {
   "cell_type": "code",
   "execution_count": 9,
   "metadata": {},
   "outputs": [],
   "source": [
    "prompt = \"\"\"\n",
    "write a short instagram post about something related to electronics. Add the relevant high performing hashtags.\n",
    "\"\"\""
   ]
  },
  {
   "cell_type": "code",
   "execution_count": 10,
   "metadata": {},
   "outputs": [],
   "source": [
    "response = openai.ChatCompletion.create(\n",
    "  model=\"gpt-3.5-turbo\",\n",
    "  messages=[\n",
    "        {\"role\": \"system\", \"content\": system},\n",
    "        {\"role\": \"user\", \"content\": prompt},\n",
    "        # {\"role\": \"assistant\", \"content\": \"The Los Angeles Dodgers won the World Series in 2020.\"},\n",
    "        # {\"role\": \"user\", \"content\": \"Where was it played?\"}\n",
    "    ],\n",
    "    max_tokens=1000,\n",
    ")"
   ]
  },
  {
   "cell_type": "code",
   "execution_count": 11,
   "metadata": {},
   "outputs": [],
   "source": [
    "# response"
   ]
  },
  {
   "cell_type": "code",
   "execution_count": 12,
   "metadata": {},
   "outputs": [
    {
     "name": "stdout",
     "output_type": "stream",
     "text": [
      "\n",
      "write a short instagram post about something related to electronics. Add the relevant high performing hashtags.\n",
      "\n",
      "----------------------\n",
      "\"Upgrade your tech game with the latest electronic gadgets! From smartphones to laptops, there's always something new to discover. Stay ahead of the evolving technology and let the electronic world amaze you. #electronics #tech #gadgets #smartphones #laptops #innovation #digitalworld #highperforming\"\n"
     ]
    }
   ],
   "source": [
    "# print(response)\n",
    "print(prompt)\n",
    "print('----------------------')\n",
    "print(response.choices[0].message.content)"
   ]
  }
 ],
 "metadata": {
  "kernelspec": {
   "display_name": "openai",
   "language": "python",
   "name": "python3"
  },
  "language_info": {
   "codemirror_mode": {
    "name": "ipython",
    "version": 3
   },
   "file_extension": ".py",
   "mimetype": "text/x-python",
   "name": "python",
   "nbconvert_exporter": "python",
   "pygments_lexer": "ipython3",
   "version": "3.10.4"
  },
  "orig_nbformat": 4
 },
 "nbformat": 4,
 "nbformat_minor": 2
}
