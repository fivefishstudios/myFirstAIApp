{
 "cells": [
  {
   "cell_type": "code",
   "execution_count": 25,
   "metadata": {},
   "outputs": [],
   "source": [
    "# Note: you need to be using OpenAI Python v0.27.0 for the code below to work\n",
    "import os\n",
    "import openai\n",
    "\n",
    "openai.api_key_path = \".api-key\""
   ]
  },
  {
   "cell_type": "code",
   "execution_count": 26,
   "metadata": {},
   "outputs": [],
   "source": [
    "system = \"\"\" \n",
    "You are an expert consultant that speaks English. \n",
    "\"\"\"\n",
    "# Answer briefly in first paragraph, \n",
    "# and explain like I'm five on second paragraph, \n"
   ]
  },
  {
   "cell_type": "code",
   "execution_count": 27,
   "metadata": {},
   "outputs": [],
   "source": [
    "prompt = \"\"\"\n",
    "Why is Vbe 0.7Volts in transistors and diodes?\n",
    "\"\"\""
   ]
  },
  {
   "cell_type": "code",
   "execution_count": 28,
   "metadata": {},
   "outputs": [],
   "source": [
    "response = openai.ChatCompletion.create(\n",
    "  model=\"gpt-3.5-turbo\",\n",
    "  messages=[\n",
    "        {\"role\": \"system\", \"content\": system},\n",
    "        {\"role\": \"user\", \"content\": prompt},\n",
    "        # {\"role\": \"assistant\", \"content\": \"The Los Angeles Dodgers won the World Series in 2020.\"},\n",
    "        # {\"role\": \"user\", \"content\": \"Where was it played?\"}\n",
    "    ],\n",
    "    max_tokens=1000,\n",
    ")"
   ]
  },
  {
   "cell_type": "code",
   "execution_count": 29,
   "metadata": {},
   "outputs": [],
   "source": [
    "# response"
   ]
  },
  {
   "cell_type": "code",
   "execution_count": 30,
   "metadata": {},
   "outputs": [
    {
     "name": "stdout",
     "output_type": "stream",
     "text": [
      "\n",
      "Why is Vbe 0.7Volts in transistors and diodes?\n",
      "\n",
      "----------------------\n",
      "\n",
      "\n",
      "The Vbe (or \"forward voltage drop\") of a transistor or diode is typically about 0.7 volts because of the physics of the semiconductor materials used in their construction. Specifically, when a forward-biased junction is formed between the n-doped and p-doped regions of the semiconductor material, a depletion region is created at the interface. This depletion region acts as a barrier to the flow of electrons, and a voltage must be applied to overcome it. The 0.7 volt value is a characteristic of many common semiconductor materials, and while it can vary a bit depending on the specific material and device construction, it is an approximate value that is often used as a practical rule of thumb.\n"
     ]
    }
   ],
   "source": [
    "# print(response)\n",
    "print(prompt)\n",
    "print('----------------------')\n",
    "print(response.choices[0].message.content)"
   ]
  }
 ],
 "metadata": {
  "kernelspec": {
   "display_name": "openai",
   "language": "python",
   "name": "python3"
  },
  "language_info": {
   "codemirror_mode": {
    "name": "ipython",
    "version": 3
   },
   "file_extension": ".py",
   "mimetype": "text/x-python",
   "name": "python",
   "nbconvert_exporter": "python",
   "pygments_lexer": "ipython3",
   "version": "3.10.4"
  },
  "orig_nbformat": 4
 },
 "nbformat": 4,
 "nbformat_minor": 2
}
