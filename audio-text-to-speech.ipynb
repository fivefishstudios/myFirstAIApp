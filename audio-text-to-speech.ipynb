{
 "cells": [
  {
   "cell_type": "code",
<<<<<<< HEAD
   "execution_count": 4,
=======
   "execution_count": 1,
>>>>>>> a8ccdc0 (test audio translation)
   "metadata": {},
   "outputs": [],
   "source": [
    "import os\n",
    "import openai\n",
    "\n",
    "openai.api_key_path = \".api-key\""
   ]
  },
  {
   "cell_type": "code",
<<<<<<< HEAD
   "execution_count": 5,
   "metadata": {},
   "outputs": [],
   "source": [
    "audio_file= open(\"./audio/vinny.mp3\", \"rb\")\n",
    "transcript = openai.Audio.transcribe(\n",
    "    model=\"whisper-1\", \n",
    "    file=audio_file,\n",
    "    prompt=\"This is a court scene...um... This is a prompt\",\n",
=======
   "execution_count": 2,
   "metadata": {},
   "outputs": [],
   "source": [
    "audio_file= open(\"./audio/tagalog.mp3\", \"rb\")\n",
    "transcript = openai.Audio.transcribe(\n",
    "    model=\"whisper-1\", \n",
    "    file=audio_file,\n",
    "    prompt=\"This is a tagalog news clip of Buong Puso...um... This is a prompt\",\n",
>>>>>>> a8ccdc0 (test audio translation)
    "    response_format=\"text\",\n",
    "    language=\"en\"\n",
    ")\n"
   ]
  },
  {
   "cell_type": "code",
<<<<<<< HEAD
   "execution_count": 6,
=======
   "execution_count": 3,
>>>>>>> a8ccdc0 (test audio translation)
   "metadata": {},
   "outputs": [
    {
     "name": "stdout",
     "output_type": "stream",
     "text": [
<<<<<<< HEAD
      "The defense is wrong! What does she mean? Are you sure? I'm positive. How could you be so sure? Because there is no way that these tire marks were made by a 64 Buick Skylark. These marks were made by a 1963 Pontiac Tempest. Objection, your honor. Can we clarify to the court whether the witness is stating opinion or fact? This is your opinion? It's a fact. I've heard it. I've heard it. I've heard it. It's a fact. I find it hard to believe... that this kind of information could be ascertained simply by looking at a picture. Would you like me to explain? I would love to hear this. So would I. The car that made these two equal length tire marks had positive traction. Can't make those marks without positive traction, which was not available on the 64 Buick Skylark. And why not? What is it? The car that made these two equal length tire marks had positive traction. Can't make those marks without positive traction, which was not available on the 64 Buick Skylark. And why not? What is it? The car that made these two equal length tire marks had positive traction. And why not? What is positive traction? It's a limited slip differential which distributes power equally to both the right and left tires. The 64 Skylark had a regular differential, which anyone who's been stuck in the mud in Alabama knows. You step on the gas, one tire spins, the other tire does nothing. Is that it? No, there's more. You see, when the left tire mark goes up on the curb and the right tire mark stays flat and even, well, the 64 Skylark has a regular differential. And why not? What is positive traction? It's a limited slip differential which distributes power equally to both the right and left tires. You see, when the left tire mark goes up on the curb and the right tire mark stays flat and even, well, the 64 Skylark had a solid rear axle. So, when the left tire would go up on the curb, the right tire would tilt out and ride along its edge. But that didn't happen here. The tire marks stayed flat and even. This car had an independent rear suspension. Now, in the 60s, there were only two other cars made in America that had positive traction, an independent rear suspension, and enough power to make these marks. One was the Corvette, which could never be confused with the Buick Skylark. The other had the same body length, height, width, weight, wheelbase, and wheel track as the 64 Skylark, and that was the 1963 Pontiac Tempest. And because both cars were made by GM, were both cars available in metallic mint green paint? They were. Thank you, Ms. Vito. No more questions. Thank you, Ms. Vito. Thank you, Ms. Vito. Thank you, Ms. Vito. Thank you, Ms. Vito. No more questions. Thank you very, very much. You've been a lovely, lovely witness.\n",
=======
      "In our hearts, the COVID-19 case in the Philippines is at 25,392. 607 are new reported cases. 22 were added to the number of people who recovered from the virus for 1,074 total deaths. 252 were added to the number of people who recovered from the virus for the total of 5,706. The Philippine Charity Ship Stakes Office has lost Php 13 billion due to the COVID-19 pandemic. The PCSO has been on hold since March when the community quarantine was implemented. PCSO General Manager Roina Garma wrote to President Duterte asking for permission to operate again. In exchange, guidelines will be implemented, such as proper physical distancing, and screens will be placed in betting booths. Digital lottery betting is also supported using mobile phones. Special draw will be held for bettors who bought tickets before the community quarantine was implemented. As a charity institution, PCSO provides financial assistance to those who are in need. It is possible to open some buffet bars in general community quarantine areas, but the setup is different. According to the Department of Trade and Industry, the former setup of self-service is not allowed. The DTI's advice is that instead of customers getting food, there should be a server for eating. The food should be covered. The employees of the eatery and customers who will enter should also wear face masks. And of course, physical distancing should be followed. Stay tuned for more news in 24 Hours Weekend. I am Lei Alves, a whole heart for the Filipinos.\n",
>>>>>>> a8ccdc0 (test audio translation)
      "\n"
     ]
    }
   ],
   "source": [
    "print(transcript)"
   ]
  },
  {
   "cell_type": "code",
   "execution_count": null,
   "metadata": {},
   "outputs": [],
   "source": []
  }
 ],
 "metadata": {
  "kernelspec": {
   "display_name": "openai",
   "language": "python",
   "name": "python3"
  },
  "language_info": {
   "codemirror_mode": {
    "name": "ipython",
    "version": 3
   },
   "file_extension": ".py",
   "mimetype": "text/x-python",
   "name": "python",
   "nbconvert_exporter": "python",
   "pygments_lexer": "ipython3",
   "version": "3.10.9"
  },
  "orig_nbformat": 4
 },
 "nbformat": 4,
 "nbformat_minor": 2
}
