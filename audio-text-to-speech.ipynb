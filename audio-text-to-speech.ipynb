{
 "cells": [
  {
   "cell_type": "code",
   "execution_count": 4,
   "metadata": {},
   "outputs": [],
   "source": [
    "import os\n",
    "import openai\n",
    "\n",
    "openai.api_key_path = \".api-key\""
   ]
  },
  {
   "cell_type": "code",
   "execution_count": 5,
   "metadata": {},
   "outputs": [],
   "source": [
    "audio_file= open(\"./audio/tagalog.mp3\", \"rb\")\n",
    "transcript = openai.Audio.transcribe(\n",
    "    model=\"whisper-1\", \n",
    "    file=audio_file,\n",
    "    prompt=\"This is a tagalog news clip of Buong Puso...um... This is a prompt\",\n",
    "    response_format=\"text\",\n",
    "    language=\"en\"\n",
    ")\n"
   ]
  },
  {
   "cell_type": "code",
   "execution_count": 6,
   "metadata": {},
   "outputs": [
    {
     "name": "stdout",
     "output_type": "stream",
     "text": [
      "Updates for COVID-19 cases in the Philippines 25,392 cases of COVID-19 have been reported in the Philippines 607 of the new reported cases are here 22 new cases were added in the province of Nasawi with 1,074 total deaths 252 new cases were added in the province of Gumaling with a total of 5,706 What's going on? The Philippine Charity Swift Stakes Office lost Php 13 billion due to the COVID-19 pandemic. PCSO has stopped operations since March, following the implementation of community quarantine. PCSO General Manager Roina Garma wrote to President Duterte to ask for permission to operate again. In exchange for permission, guidelines will be implemented, such as proper physical distancing, and screens will be placed in betting booths. Digital betting on lots will also be supported using mobile phones. Special draws will be held for bettors who bought tickets before the community quarantine was implemented. As a charity institution, PCSO provides financial assistance to those who are in need. It is possible to open some buffet bars in general community quarantine areas, but the setup is different. According to the Department of Trade and Industry, the former self-service setup is not allowed. The DTI's advice is that instead of customers getting food, there should be a server for eating. And the food should be covered. Employees of the eatery and customers who will enter should also wear face masks. And of course, physical distancing should be followed. Stay tuned for more news in 24 Hours Weekend. I am Lei Alves, a whole heart for the Filipinos.\n",
      "\n"
     ]
    }
   ],
   "source": [
    "print(transcript)"
   ]
  },
  {
   "cell_type": "code",
   "execution_count": null,
   "metadata": {},
   "outputs": [],
   "source": []
  }
 ],
 "metadata": {
  "kernelspec": {
   "display_name": "openai",
   "language": "python",
   "name": "python3"
  },
  "language_info": {
   "codemirror_mode": {
    "name": "ipython",
    "version": 3
   },
   "file_extension": ".py",
   "mimetype": "text/x-python",
   "name": "python",
   "nbconvert_exporter": "python",
   "pygments_lexer": "ipython3",
   "version": "3.10.4"
  },
  "orig_nbformat": 4
 },
 "nbformat": 4,
 "nbformat_minor": 2
}
