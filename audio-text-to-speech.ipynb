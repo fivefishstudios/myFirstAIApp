{
 "cells": [
  {
   "cell_type": "code",
   "execution_count": 23,
   "metadata": {},
   "outputs": [],
   "source": [
    "import os\n",
    "import openai\n",
    "\n",
    "openai.api_key_path = \".api-key\""
   ]
  },
  {
   "cell_type": "code",
   "execution_count": 24,
   "metadata": {},
   "outputs": [],
   "source": [
    "audio_file= open(\"./audio/murdaugh.mp3\", \"rb\")\n",
    "transcript = openai.Audio.transcribe(\n",
    "    model=\"whisper-1\", \n",
    "    file=audio_file,\n",
    "    prompt=\"This is a court scene of Mr. Murdaugh...um... This is a prompt\",\n",
    "    response_format=\"text\",\n",
    "    language=\"en\"\n",
    ")\n"
   ]
  },
  {
   "cell_type": "code",
   "execution_count": 25,
   "metadata": {},
   "outputs": [
    {
     "name": "stdout",
     "output_type": "stream",
     "text": [
      "Mr. Murdaugh, I sentence you to the State Department of Corrections on each of the murder indictments. In the murder of your wife, Maggie Murdaugh, I sentence you for the term of the rest of your natural life for the murder of Paul Murdaugh, whom you probably love so much, I sentence you to prison for murdering him for the rest of your natural life. Those sentences will run consecutive. Under the statute involving possession of a weapon during a violent crime, there is no sentence where life...a life sentence is imposed on other indictments. That is the sentence of the court and you are remanded to the State Department of Corrections.\n",
      "\n"
     ]
    }
   ],
   "source": [
    "print(transcript)"
   ]
  },
  {
   "cell_type": "code",
   "execution_count": null,
   "metadata": {},
   "outputs": [],
   "source": []
  }
 ],
 "metadata": {
  "kernelspec": {
   "display_name": "openai",
   "language": "python",
   "name": "python3"
  },
  "language_info": {
   "codemirror_mode": {
    "name": "ipython",
    "version": 3
   },
   "file_extension": ".py",
   "mimetype": "text/x-python",
   "name": "python",
   "nbconvert_exporter": "python",
   "pygments_lexer": "ipython3",
   "version": "3.10.4"
  },
  "orig_nbformat": 4
 },
 "nbformat": 4,
 "nbformat_minor": 2
}
